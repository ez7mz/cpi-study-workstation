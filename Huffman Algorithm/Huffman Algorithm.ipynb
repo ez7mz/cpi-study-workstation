{
 "cells": [
  {
   "cell_type": "markdown",
   "id": "336bd9d6",
   "metadata": {},
   "source": [
    "# Huffman Algorithm"
   ]
  },
  {
   "cell_type": "markdown",
   "id": "008b0eae",
   "metadata": {},
   "source": [
    "\n",
    "    Author : MESRAR Hamza - @ez7m.z - 🦂\n",
    "    💬 : mesrarhamza48@gmail.com"
   ]
  },
  {
   "cell_type": "markdown",
   "id": "b6680b97",
   "metadata": {},
   "source": [
    "In computer science and information theory, a Huffman code is a particular type of optimal prefix code that is commonly used for lossless data compression. The process of finding or using such a code proceeds by means of Huffman coding, an algorithm developed by David A. Huffman while he was a Sc.D. student at MIT, and published in the 1952 paper \"A Method for the Construction of Minimum-Redundancy Codes\"."
   ]
  },
  {
   "cell_type": "code",
   "execution_count": 2,
   "id": "60a7cdfe",
   "metadata": {},
   "outputs": [],
   "source": [
    "# Node of a Huffman Tree  \n",
    "\n",
    "class Nodes:  \n",
    "\n",
    "    def __init__(self, probability, symbol, left = None, right = None):  \n",
    "\n",
    "        # probability of the symbol  \n",
    "        self.probability = probability\n",
    "        # the symbol  \n",
    "        self.symbol = symbol\n",
    "        # the left node  \n",
    "        self.left = left  \n",
    "        # the right node  \n",
    "        self.right = right\n",
    "        # the tree direction (0 or 1)  \n",
    "        self.code = ''"
   ]
  },
  {
   "cell_type": "markdown",
   "id": "bc7eefac",
   "metadata": {},
   "source": [
    "<h2 style=\"font-family:consolas\">print the codes of symbols by travelling a Huffman Tree</h2>"
   ]
  },
  {
   "cell_type": "code",
   "execution_count": 5,
   "id": "46175da4",
   "metadata": {},
   "outputs": [],
   "source": [
    "the_codes = {}\n",
    "def CalculateCodes(node, value = ''):\n",
    "    # a huffman code for current node  \n",
    "    newValue = value + str(node.code)  \n",
    "    if(node.left):  \n",
    "        CalculateCodes(node.left, newValue)  \n",
    "    if(node.right):  \n",
    "        CalculateCodes(node.right, newValue)  \n",
    "  \n",
    "    if(not node.left and not node.right):  \n",
    "        the_codes[node.symbol] = newValue  \n",
    "           \n",
    "    return the_codes"
   ]
  },
  {
   "cell_type": "code",
   "execution_count": 14,
   "id": "9e613088",
   "metadata": {},
   "outputs": [],
   "source": [
    "def HuffmanEncoding(freq):\n",
    "    symbolWithProbs = freq\n",
    "    print(symbolWithProbs) \n",
    "    the_symbols = symbolWithProbs.keys()  \n",
    "    the_probabilities = symbolWithProbs.values()  \n",
    "    print(\"symbols: \", the_symbols)  \n",
    "    print(\"probabilities: \", the_probabilities)  \n",
    "      \n",
    "    the_nodes = []  \n",
    "      \n",
    "    # converting symbols and probabilities into huffman tree nodes  \n",
    "    for symbol in the_symbols:  \n",
    "        the_nodes.append(Nodes(symbolWithProbs.get(symbol), symbol)) \n",
    "\n",
    "    while len(the_nodes) > 1:  \n",
    "        # sorting all the nodes in ascending order based on their probability  \n",
    "        the_nodes = sorted(the_nodes, key = lambda x: x.probability)  \n",
    "        # for node in nodes:    \n",
    "        #       print(node.symbol, node.prob)  \n",
    "        # picking two smallest nodes  \n",
    "        right = the_nodes[0]  \n",
    "        left = the_nodes[1]  \n",
    "        left.code = 1\n",
    "        right.code = 0 \n",
    "\n",
    "        # combining the 2 smallest nodes to create new node  \n",
    "        newNode = Nodes(left.probability + right.probability, left.symbol + right.symbol, left, right)  \n",
    "        the_nodes.remove(left)  \n",
    "        the_nodes.remove(right)  \n",
    "        the_nodes.append(newNode)  \n",
    "\n",
    "    huffmanEncoding = CalculateCodes(the_nodes[0])  \n",
    "    print(\"symbols with codes : \", huffmanEncoding)      \n",
    "\n",
    "    return the_nodes[0]  "
   ]
  },
  {
   "cell_type": "markdown",
   "id": "5135764a",
   "metadata": {},
   "source": [
    "<h2 style=\"font-family:consolas\">Algorithm Test</h2>"
   ]
  },
  {
   "cell_type": "markdown",
   "id": "b6b78c50",
   "metadata": {},
   "source": [
    "<h3 style=\"font-family:consolas\">Exemple</h3>"
   ]
  },
  {
   "cell_type": "markdown",
   "id": "64bdfeae",
   "metadata": {},
   "source": [
    "Soit le message avec : \n",
    "\n",
    "| 0 | 1 | 2 | 3 | 4 | 5 | 6 | 7 | 8 | 9 |\n",
    "| :--- | :--- | :--- | :--- | :--- | :--- | :--- | :--- | :--- | :--- |\n",
    "| 0.05 | 0.1 | 0.11 | 0.11 | 0.15 | 0.06 | 0.08 | 0.2 | 0.07 | 0.07 |"
   ]
  },
  {
   "cell_type": "code",
   "execution_count": 16,
   "id": "65087913",
   "metadata": {},
   "outputs": [
    {
     "name": "stdout",
     "output_type": "stream",
     "text": [
      "==================== TD2 EXERCICE 2 ====================\n",
      "{'7': 0.2, '4': 0.15, '2': 0.11, '3': 0.11, '1': 0.1, '6': 0.08, '8': 0.07, '9': 0.07, '5': 0.06, '0': 0.05}\n",
      "symbols:  dict_keys(['7', '4', '2', '3', '1', '6', '8', '9', '5', '0'])\n",
      "probabilities:  dict_values([0.2, 0.15, 0.11, 0.11, 0.1, 0.08, 0.07, 0.07, 0.06, 0.05])\n",
      "symbols with codes :  {'1': '1111', '6': '1110', '4': '110', '9': '1011', '8': '1010', '5': '1001', '0': '1000', '3': '011', '2': '010', '7': '00'}\n"
     ]
    },
    {
     "data": {
      "text/plain": [
       "<__main__.Nodes at 0x1e7c368e640>"
      ]
     },
     "execution_count": 16,
     "metadata": {},
     "output_type": "execute_result"
    }
   ],
   "source": [
    "print(\"=\"*20+\" TD2 EXERCICE 2 \"+\"=\"*20) \n",
    "frequence = {'7':0.2,'4':0.15,'2' : 0.11,'3' : 0.11,'1' : 0.1,'6':0.08,'8':0.07,'9':0.07,'5':0.06,'0':0.05}\n",
    "frequence\n",
    "HuffmanEncoding(frequence)"
   ]
  }
 ],
 "metadata": {
  "kernelspec": {
   "display_name": "Python 3.10.6 64-bit (windows store)",
   "language": "python",
   "name": "python3"
  },
  "language_info": {
   "codemirror_mode": {
    "name": "ipython",
    "version": 3
   },
   "file_extension": ".py",
   "mimetype": "text/x-python",
   "name": "python",
   "nbconvert_exporter": "python",
   "pygments_lexer": "ipython3",
   "version": "3.10.6"
  },
  "vscode": {
   "interpreter": {
    "hash": "2213c6964594f56192c056f27fa8a794e7abcbef2997ffe24e28da1bf421cb3b"
   }
  }
 },
 "nbformat": 4,
 "nbformat_minor": 5
}
