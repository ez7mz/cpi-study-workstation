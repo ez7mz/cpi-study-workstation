{
 "cells": [
  {
   "cell_type": "markdown",
   "id": "2f367fde",
   "metadata": {},
   "source": [
    "# LZW Coding and Decoding Algorithme"
   ]
  },
  {
   "cell_type": "markdown",
   "id": "9dc9058b",
   "metadata": {},
   "source": [
    "LZW is a universal lossless data compression algorithm created by Abraham Lempel, Jacob Ziv, and Terry Welch. It was published by Welch in 1984 as an improved implementation of the LZ78 algorithm published by Lempel and Ziv in 1978. The algorithm is simple to implement and has the potential for very high throughput in hardware implementations. It is the algorithm of the widely used Unix file compression utility compress and is used in the GIF image format."
   ]
  },
  {
   "cell_type": "code",
   "execution_count": 1,
   "id": "8b1a4d69",
   "metadata": {},
   "outputs": [],
   "source": [
    "# this function helps us to get the key of a value in a dictionary\n",
    "def get_key(val,my_dict):\n",
    "    for key, value in my_dict.items():\n",
    "        if val == value:\n",
    "            return key"
   ]
  },
  {
   "cell_type": "markdown",
   "id": "6ea30dcd",
   "metadata": {},
   "source": [
    "<h3> LZW Codding algorithme : </h3>"
   ]
  },
  {
   "cell_type": "code",
   "execution_count": 3,
   "id": "cd6506f5",
   "metadata": {},
   "outputs": [],
   "source": [
    "# LZW coding function \n",
    "def coddingLZW(S,dic):\n",
    "    # S : the text we're trying to\n",
    "    # dic : the working dictionary\n",
    "\n",
    "    # this if condition solve an unexpected problem that if the first index is 1\n",
    "    # when you add a value to the dictionary it duplicates the last key instead of increasing it. \n",
    "    if list(dic.values())[0] == 0:\n",
    "        last = len(dic)\n",
    "    else:\n",
    "        last = len(dic)+1\n",
    "    # follow TP1 LZW algorithme instruction\n",
    "    w = \"\"\n",
    "    Final = []\n",
    "    for k in S:\n",
    "        wk = w + k\n",
    "        if wk in dic:\n",
    "            w = wk\n",
    "        else:\n",
    "            Final.append(dic[w])\n",
    "            dic[wk] = last\n",
    "            last += 1\n",
    "            w = k\n",
    "    if w != \"\":\n",
    "        Final.append(dic[w])\n",
    "    return Final, dic"
   ]
  },
  {
   "cell_type": "markdown",
   "id": "13608f9a",
   "metadata": {},
   "source": [
    "<h3> LZW DeCodding algorithme : </h3>"
   ]
  },
  {
   "cell_type": "code",
   "execution_count": 4,
   "id": "3bc98d83",
   "metadata": {},
   "outputs": [],
   "source": [
    "# LZW decoding function\n",
    "def decoddingLZW(L,dic):\n",
    "    # L: The list we're trying to decode\n",
    "    # the working dictionary\n",
    "    \"\"\"\n",
    "        the Principe is to initialize an empty 'Final' string then search the indexes from the list in the dictionary\n",
    "        if it exists, append the letter corresponding to this index \n",
    "        if it does not exist we code the Final Sting we get then search in the new dictionary\n",
    "            and append the corresponding letter\n",
    "        And finally return our Final String\n",
    "    \"\"\"\n",
    "    Final = \"\"\n",
    "    for i in L:\n",
    "        if i in dic.values():\n",
    "            Final += get_key(i,dic)\n",
    "        else:\n",
    "            t, dic = coddingLZW(Final, dic)\n",
    "            Final += get_key(i,dic)\n",
    "    \n",
    "    return Final"
   ]
  },
  {
   "cell_type": "markdown",
   "id": "c2504cc1",
   "metadata": {},
   "source": [
    "<h3> Algorithm Test : </h3>"
   ]
  },
  {
   "cell_type": "markdown",
   "id": "9a3752da",
   "metadata": {},
   "source": [
    "<h4> Exemple1 </h4>"
   ]
  },
  {
   "cell_type": "markdown",
   "id": "6068409a",
   "metadata": {},
   "source": [
    "Compresser avec LZ et avec LZW le mot $u=$ bbbabbaabbbb.\n",
    "Décompressez $(0, ' b$ '), $(0$, ' $a$ '), (2, 'a'), (3, 'b'), (4, 'a') obtenu après application de LZ. Décompressez $[1,2,0,4,1]$ obtenu après les applications de LZW pour l'alphabet $\\{\\mathrm{a}, \\mathrm{b}\\}$.\n",
    "\n",
    "| indice | entrée |\n",
    "| :--- | :--- |\n",
    "| 0 | a |\n",
    "| 1 | b |"
   ]
  },
  {
   "cell_type": "code",
   "execution_count": 26,
   "id": "79483a20",
   "metadata": {},
   "outputs": [
    {
     "data": {
      "text/plain": [
       "'bbbabbaabbbb'"
      ]
     },
     "execution_count": 26,
     "metadata": {},
     "output_type": "execute_result"
    }
   ],
   "source": [
    "S = \"bbbabbaabbbb\"\n",
    "S"
   ]
  },
  {
   "cell_type": "code",
   "execution_count": 27,
   "id": "d593aa50",
   "metadata": {},
   "outputs": [
    {
     "data": {
      "text/plain": [
       "{'a': 0, 'b': 1}"
      ]
     },
     "execution_count": 27,
     "metadata": {},
     "output_type": "execute_result"
    }
   ],
   "source": [
    "dic = {\"a\":0,\"b\":1}\n",
    "dic"
   ]
  },
  {
   "cell_type": "code",
   "execution_count": 28,
   "id": "0f539322",
   "metadata": {},
   "outputs": [
    {
     "name": "stdout",
     "output_type": "stream",
     "text": [
      "==========  Ex 1 Coding Result :  ==========\n",
      "String : bbbabbaabbbb\n",
      "Result :  [1, 2, 0, 3, 4, 2, 1]\n",
      "Final dictionary :  {'a': 0, 'b': 1, 'bb': 2, 'bba': 3, 'ab': 4, 'bbaa': 5, 'abb': 6, 'bbb': 7}\n",
      "\n",
      "==========  Ex 1 Decoding Result :  ==========\n",
      "list :  [1, 2, 0, 4, 1]\n",
      "Result :  bbbaabb\n"
     ]
    }
   ],
   "source": [
    "print(10*\"=\",\" Ex 1 Coding Result : \",10*\"=\")\n",
    "print(\"String : \"+S)\n",
    "res, d = coddingLZW(S, dic)\n",
    "print(\"Result : \",res)\n",
    "print(\"Final dictionary : \",d)\n",
    "print()\n",
    "print(10*\"=\",\" Ex 1 Decoding Result : \",10*\"=\")\n",
    "l = [1,2,0,4,1]\n",
    "print(\"list : \", l)\n",
    "String = decoddingLZW(l, dic)\n",
    "print(\"Result : \",String)"
   ]
  },
  {
   "cell_type": "markdown",
   "id": "040f2a56",
   "metadata": {},
   "source": [
    "<h4> Exemple2 </h4>"
   ]
  },
  {
   "cell_type": "markdown",
   "id": "5c4d45aa",
   "metadata": {},
   "source": [
    "Encoder le message suivant formé à partir de l'alphabet $A=\\{$ a b r y - $\\}$ avec l'algorithme LZW : a-bar-array-by-barrayar-bay Construisez le dictionnaire et générez la séquence d'indice à transmettre à partir de ce tableau initial :\n",
    "\n",
    "| indice | entrée |\n",
    "| :--- | :--- |\n",
    "| 1 | a |\n",
    "| 2 | b |\n",
    "| 3 | r |\n",
    "| 4 | y |\n",
    "| 5 | - |"
   ]
  },
  {
   "cell_type": "code",
   "execution_count": 29,
   "id": "43972903",
   "metadata": {},
   "outputs": [
    {
     "data": {
      "text/plain": [
       "'a-bar-array-by-barrayar-bay'"
      ]
     },
     "execution_count": 29,
     "metadata": {},
     "output_type": "execute_result"
    }
   ],
   "source": [
    "S1 = \"a-bar-array-by-barrayar-bay\"\n",
    "S1"
   ]
  },
  {
   "cell_type": "code",
   "execution_count": 30,
   "id": "2f750394",
   "metadata": {},
   "outputs": [
    {
     "data": {
      "text/plain": [
       "{'a': 1, 'b': 2, 'r': 3, 'y': 4, '-': 5}"
      ]
     },
     "execution_count": 30,
     "metadata": {},
     "output_type": "execute_result"
    }
   ],
   "source": [
    "dic1 = {\"a\":1, \"b\":2, \"r\":3, \"y\":4, \"-\":5 }\n",
    "dic1"
   ]
  },
  {
   "cell_type": "code",
   "execution_count": 31,
   "id": "ce96ea06",
   "metadata": {},
   "outputs": [
    {
     "name": "stdout",
     "output_type": "stream",
     "text": [
      "==========  Ex 2 Coding Result :  ==========\n",
      "Result :  [1, 5, 2, 1, 3, 5, 9, 3, 1, 4, 7, 15, 8, 3, 13, 4, 9, 7, 14]\n",
      "Final dictionary :  {'a': 1, 'b': 2, 'r': 3, 'y': 4, '-': 5, 'a-': 6, '-b': 7, 'ba': 8, 'ar': 9, 'r-': 10, '-a': 11, 'arr': 12, 'ra': 13, 'ay': 14, 'y-': 15, '-by': 16, 'y-b': 17, 'bar': 18, 'rr': 19, 'ray': 20, 'ya': 21, 'ar-': 22, '-ba': 23}\n",
      "\n",
      "==========  Ex 2 Decoding Result :  ==========\n",
      "Result :  a-bar-array-by-barrayar-bay\n"
     ]
    }
   ],
   "source": [
    "print(10*\"=\",\" Ex 2 Coding Result : \",10*\"=\")\n",
    "res1, d1 = coddingLZW(S1, dic1)\n",
    "print(\"Result : \",res1)\n",
    "print(\"Final dictionary : \",d1)\n",
    "print()\n",
    "print(10*\"=\",\" Ex 2 Decoding Result : \",10*\"=\")\n",
    "String1 = decoddingLZW(res1, dic1)\n",
    "print(\"Result : \",String1)"
   ]
  },
  {
   "cell_type": "markdown",
   "id": "588c1e53",
   "metadata": {},
   "source": [
    "\n",
    "    Author : MESRAR Hamza - @ez7m.z - 🦂<br>\n",
    "    💬 : mesrarhamza48@gmail.com\n"
   ]
  },
  {
   "cell_type": "code",
   "execution_count": null,
   "id": "fb799dd2",
   "metadata": {},
   "outputs": [],
   "source": []
  }
 ],
 "metadata": {
  "kernelspec": {
   "display_name": "Python 3.10.6 64-bit (windows store)",
   "language": "python",
   "name": "python3"
  },
  "language_info": {
   "codemirror_mode": {
    "name": "ipython",
    "version": 3
   },
   "file_extension": ".py",
   "mimetype": "text/x-python",
   "name": "python",
   "nbconvert_exporter": "python",
   "pygments_lexer": "ipython3",
   "version": "3.10.6"
  },
  "vscode": {
   "interpreter": {
    "hash": "2213c6964594f56192c056f27fa8a794e7abcbef2997ffe24e28da1bf421cb3b"
   }
  }
 },
 "nbformat": 4,
 "nbformat_minor": 5
}
