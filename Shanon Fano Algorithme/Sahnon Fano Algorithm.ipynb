{
 "cells": [
  {
   "cell_type": "markdown",
   "id": "52a6e5ac",
   "metadata": {},
   "source": [
    "# Algorithm Shannon fano"
   ]
  },
  {
   "cell_type": "markdown",
   "id": "afe8ba8c",
   "metadata": {},
   "source": [
    "\n",
    "    Author : MESRAR Hamza - @ez7m.z - 🦂\n",
    "    💬 : mesrarhamza48@gmail.com\n"
   ]
  },
  {
   "cell_type": "markdown",
   "id": "164be3a9",
   "metadata": {},
   "source": [
    "Shannon Fano Algorithm is an entropy encoding technique for lossless data compression of multimedia. Named after Claude Shannon and Robert Fano, it assigns a code to each symbol based on their probabilities of occurrence. It is a variable-length encoding scheme, that is, the codes assigned to the symbols will be of varying length. "
   ]
  },
  {
   "cell_type": "markdown",
   "id": "0b816d88",
   "metadata": {},
   "source": [
    "<span style=\"font-family:consolas\">PrettyPrint\n",
    "    Dics: dictionnaire\n",
    "    A function to have a more pleasant and readable display\n",
    "</span>"
   ]
  },
  {
   "cell_type": "code",
   "execution_count": 1,
   "id": "cc247f50",
   "metadata": {},
   "outputs": [],
   "source": [
    "def PrettyPrint(dics):\n",
    "    for key,value in dics.items():\n",
    "        print(str(key)+\" : \"+str(value))"
   ]
  },
  {
   "cell_type": "markdown",
   "id": "5ab695a4",
   "metadata": {},
   "source": [
    "<span style=\"font-family:consolas\"> SortProbs:<br>\n",
    "    input_String: This is the message to encode, it is of type String\n",
    "     This function aims to calculate and order the probabilities of the letters of the message passed as parameter in\n",
    "     returning them as a sorted dictionary.</span>"
   ]
  },
  {
   "cell_type": "code",
   "execution_count": 2,
   "id": "43e0ebd5",
   "metadata": {},
   "outputs": [],
   "source": [
    "def SortProbs(input_String):\n",
    "    frequencies = {}\n",
    "\n",
    "    for char in input_String.lower(): \n",
    "        if char in frequencies: \n",
    "            frequencies[char] += 1\n",
    "        else: \n",
    "            frequencies[char] = 1\n",
    "            \n",
    "    for keys,values in frequencies.items():\n",
    "        frequencies[keys] = values / len(input_String)\n",
    "    \n",
    "    # We give our dictionary in an increasing way using the parameter reverse=True\n",
    "    frequencies = dict(sorted(frequencies.items(), key=lambda item: item[1],reverse=True))\n",
    "    return frequencies"
   ]
  },
  {
   "cell_type": "markdown",
   "id": "8dc444b9",
   "metadata": {},
   "source": [
    "<span style=\"font-family:consolas\"> MidTable:<br>\n",
    "        Freq: A dictionary that contains the values of letters ordered in descending order.</span>"
   ]
  },
  {
   "cell_type": "code",
   "execution_count": 3,
   "id": "6183c2ba",
   "metadata": {},
   "outputs": [],
   "source": [
    "def MidTable(Freq):\n",
    "    k = 0\n",
    "    # On prend justement les probabilite et on les passe dans un tableau pour faciliter le calcule\n",
    "    tab = list(Freq.values())\n",
    "    # On prend la premier valeur des probabilite \n",
    "    sum1 = list(Freq.values())[0]\n",
    "    sum2 = 0\n",
    "    # On somme terme par terme\n",
    "    for i in range(len(tab)-1,k+1,-1):\n",
    "        sum2 = sum2 + tab[i]\n",
    "        if sum1<sum2:\n",
    "            k = k+1\n",
    "            sum1 = sum1 + tab[k]\n",
    "    return k\n"
   ]
  },
  {
   "cell_type": "markdown",
   "id": "c87145ec",
   "metadata": {},
   "source": [
    "<span style=\"font-family:consolas\">Shannon_fano:<br>\n",
    "        Freq: the ordred dictionary<br>\n",
    "        res: A dictionary that will take the result returned by the function in a recursive way</span>"
   ]
  },
  {
   "cell_type": "code",
   "execution_count": 4,
   "id": "fa401197",
   "metadata": {},
   "outputs": [],
   "source": [
    "def Shannon_fano(Freq,res):\n",
    "    # Condition d'arret\n",
    "    if len(list(Freq.values())) == 2:\n",
    "        i = 0\n",
    "        for key,_ in Freq.items():\n",
    "            if i < 1:\n",
    "                res[key]=str(res.setdefault(key,\"\"))+\"0\"\n",
    "            else:\n",
    "                res[key]=str(res.setdefault(key,\"\"))+\"1\"\n",
    "            i = i + 1\n",
    "        return res\n",
    "    else:\n",
    "        i = 0\n",
    "        milieu = MidTable(Freq)\n",
    "        d1 = dict(list(Freq.items())[milieu+1:])\n",
    "        d2 = dict(list(Freq.items())[:milieu+1])\n",
    "        for key,_ in Freq.items():\n",
    "            if i <= milieu:\n",
    "                res[key]=str(res.setdefault(key,\"\"))+\"0\"\n",
    "            else:\n",
    "                res[key]=str(res.setdefault(key,\"\"))+\"1\"\n",
    "            i = i + 1 \n",
    "        if len(d1) > 1: \n",
    "            Shannon_fano(d1,res)\n",
    "        if len(d2) > 1:\n",
    "            Shannon_fano(d2,res)\n",
    "        return res"
   ]
  },
  {
   "cell_type": "markdown",
   "id": "e2ef658b",
   "metadata": {},
   "source": [
    "# Algorithm Test"
   ]
  },
  {
   "cell_type": "markdown",
   "id": "f9c224ce",
   "metadata": {},
   "source": [
    "<h3> Exemple1 <h3>"
   ]
  },
  {
   "cell_type": "markdown",
   "id": "b6f70d5b",
   "metadata": {},
   "source": [
    "Soient deux sources discrètes d'information sans mémoire $\\mathrm{S} 1$ et $\\mathrm{S} 2$, chacune possède un alphabet de 06 symboles, $S 1=\\{x 1, x 2, x 3, x 4, x 5, x 6\\}$ et $S 2=\\{y 1, y 2, y 3, y 4, y 5, y 6\\}$. Les probabilités de la première source sont $1 / 2,1 / 4,1 / 8,1 / 16,1 / 32,1 / 32$. La seconde source a une distribution uniforme."
   ]
  },
  {
   "cell_type": "code",
   "execution_count": 10,
   "id": "9ded501c",
   "metadata": {},
   "outputs": [
    {
     "name": "stdout",
     "output_type": "stream",
     "text": [
      "==================== EXEMPLE 1 ====================\n",
      "{'x1': 0.5, 'x2': 0.25, 'x3': 0.125, 'x4': 0.0625, 'x5': 0.03125, 'x6': 0.03125}\n",
      "x1 : 0\n",
      "x2 : 10\n",
      "x3 : 110\n",
      "x4 : 1110\n",
      "x5 : 11110\n",
      "x6 : 11111\n"
     ]
    }
   ],
   "source": [
    "print(\"=\"*20+\" EXEMPLE 1 \"+\"=\"*20) \n",
    "S1 = {'x1': 0.5,'x2':0.25,'x3':0.125,'x4':0.0625,'x5':0.03125,'x6':0.03125}\n",
    "resultat = {}\n",
    "print(S1)\n",
    "PrettyPrint(Shannon_fano(S1,resultat))"
   ]
  },
  {
   "cell_type": "markdown",
   "id": "2a7c687e",
   "metadata": {},
   "source": [
    "<h3> Exemple2 <h3>"
   ]
  },
  {
   "cell_type": "markdown",
   "id": "4b9cd768",
   "metadata": {},
   "source": [
    "Soient les messages $A, B, C, D, E$ et $F$ avec $P(A)=0.4, P(B)=0.2, P(C)=0.12, P(D)=0.1$, $P(E)=0.1$ et $P(F)=0.08$"
   ]
  },
  {
   "cell_type": "code",
   "execution_count": 11,
   "id": "a7dd369a",
   "metadata": {},
   "outputs": [
    {
     "name": "stdout",
     "output_type": "stream",
     "text": [
      "==================== EXEMPLE 2 ====================\n",
      "{'A': 0.4, 'B': 0.2, 'C': 0.12, 'D': 0.1, 'E': 0.1, 'F': 0.08}\n",
      "A : 0\n",
      "B : 100\n",
      "C : 101\n",
      "D : 110\n",
      "E : 1110\n",
      "F : 1111\n"
     ]
    }
   ],
   "source": [
    "print(\"=\"*20+\" EXEMPLE 2 \"+\"=\"*20) \n",
    "resultat = {}\n",
    "frequence = {'A':0.4,'B':0.2,'C' : 0.12,'D' : 0.1,'E' : 0.1,'F':0.08}\n",
    "print(frequence)\n",
    "PrettyPrint(Shannon_fano(frequence,resultat))"
   ]
  },
  {
   "cell_type": "markdown",
   "id": "c043210e",
   "metadata": {},
   "source": [
    "<h3> Exemple3 <h3>"
   ]
  },
  {
   "cell_type": "markdown",
   "id": "38203c45",
   "metadata": {},
   "source": [
    "Considérons une source discrète sans mémoire sur l'alphabet a0, a1, a2, a3, a4 qui produit selon la distribution $\\mathrm{p} 0=\\mathrm{p} 2=0.2, \\mathrm{p} 1=0.4, \\mathrm{p} 3=\\mathrm{p} 4=0.1$."
   ]
  },
  {
   "cell_type": "code",
   "execution_count": 13,
   "id": "19b6bf23",
   "metadata": {},
   "outputs": [
    {
     "name": "stdout",
     "output_type": "stream",
     "text": [
      "==================== EXEMPLE 3 ====================\n",
      "{'a0': 0.2, 'a2': 0.4, 'a3': 0.1, 'a4': 0.1}\n",
      "a0 : 0\n",
      "a2 : 10\n",
      "a3 : 110\n",
      "a4 : 111\n"
     ]
    }
   ],
   "source": [
    "print(\"=\"*20+\" EXEMPLE 3 \"+\"=\"*20) \n",
    "resultat = {}\n",
    "S2 = {'a0':0.2,'a2':0.4,'a3':0.1,'a4':0.1}\n",
    "print(S2)\n",
    "PrettyPrint(Shannon_fano(S2,resultat))"
   ]
  }
 ],
 "metadata": {
  "kernelspec": {
   "display_name": "Python 3 (ipykernel)",
   "language": "python",
   "name": "python3"
  },
  "language_info": {
   "codemirror_mode": {
    "name": "ipython",
    "version": 3
   },
   "file_extension": ".py",
   "mimetype": "text/x-python",
   "name": "python",
   "nbconvert_exporter": "python",
   "pygments_lexer": "ipython3",
   "version": "3.9.7"
  }
 },
 "nbformat": 4,
 "nbformat_minor": 5
}
