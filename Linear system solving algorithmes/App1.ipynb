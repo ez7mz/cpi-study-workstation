{
 "cells": [
  {
   "cell_type": "markdown",
   "id": "e192b05f",
   "metadata": {},
   "source": [
    "\n",
    "    Author : MESRAR Hamza - @ez7m.z - 🦂\n",
    "    💬 : mesrarhamza48@gmail.com\n"
   ]
  },
  {
   "cell_type": "markdown",
   "id": "50c75b62",
   "metadata": {},
   "source": [
    "# EXERCICE  :\n",
    "<p style=\"font-family: consolas, serif; font-size:11pt; font-style:italic\">\n",
    "    In this exercise we will solve a nonlinear system (S) with Newton's method <br>\n",
    "    the system concerned is as follows:\n",
    "    $$\n",
    "    \\left\\{\\begin{array}{l}\n",
    "    16 x^{2}=\\left(x^{2}+1\\right)(x+y)^{2} \\\\\n",
    "    9 y^{2}=\\left(y^{2}+1\\right)(x+y)^{2}\n",
    "    \\end{array}\\right.\n",
    "    $$\n",
    "</p>"
   ]
  },
  {
   "cell_type": "markdown",
   "id": "a80700b8",
   "metadata": {},
   "source": [
    "<p style=\"font-family: consolas, serif; font-size:11pt; font-style:italic\">\n",
    "    Newton's method naturally generalizes to the case of nonlinear systems of equations\n",
    "     as follows: <br>we choose $x^{(0)} \\in R^{n}$ and we use the iteration formula : <br>\n",
    "    <br>\n",
    "    $$\n",
    "    x^{(n+1)}=x^{(n)}-J_{f}\\left(x^{(n)}\\right)^{-1} f\\left(x^{(n)}\\right)\n",
    "    $$\n",
    "    <br>\n",
    "    where $J_{f}\\left(x^{(n)}\\right)^{-1}$ denotes the inverse of the Jacobian matrix of $f$ evaluated in $x^{(n)}$.\n",
    "</p>"
   ]
  },
  {
   "cell_type": "markdown",
   "id": "d6e40293",
   "metadata": {},
   "source": [
    "<p style=\"font-family: consolas, serif; font-size:11pt; font-style:italic\">\n",
    "    Calculate iteration $n+1$ from iteration $n$ using the formula requires\n",
    "     to invert the matrix $J_{f}\\left(x^{(n)}\\right)$. However, calculating the inverse of a matrix can be costly. Therefore, we rewrite the iteration formula as:<br>\n",
    "    $$\n",
    "    J_{f}\\left(x^{(n)}\\right)\\left(x^{(n+1)}-x^{(n)}\\right)=-f\\left(x^{(n)}\\right)\n",
    "    $$\n",
    "</p>"
   ]
  },
  {
   "cell_type": "markdown",
   "id": "5b09e18c",
   "metadata": {},
   "source": [
    "## Implementation of the exercise in Python"
   ]
  },
  {
   "cell_type": "markdown",
   "id": "dbb8979f",
   "metadata": {},
   "source": [
    "<p style=\"font-family: consolas, serif; font-size:14pt; font-style:italic\">\n",
    "    1- Define the functions:\n",
    "    $f_{1}(x, y), f_{2}(x, y), f_{1 x}^{\\prime}(x, y), f_{1 y}^{\\prime}(x, y), f_{2 x}^{\\prime}(x, y), f_{1 y}^{\\prime}(x, y)$\n",
    "    <br>\n",
    "</p>"
   ]
  },
  {
   "cell_type": "markdown",
   "id": "6ac6d340",
   "metadata": {},
   "source": [
    "<p style=\"font-family: consolas, serif; font-size:11pt; font-style:italic\">\n",
    "    1.1- function to calculate mathematical power\n",
    "</p>"
   ]
  },
  {
   "cell_type": "code",
   "execution_count": 28,
   "id": "6eda74e8",
   "metadata": {},
   "outputs": [],
   "source": [
    "def pow(x, y):\n",
    "    return x ** y"
   ]
  },
  {
   "cell_type": "markdown",
   "id": "3fe95166",
   "metadata": {},
   "source": [
    "<p style=\"font-family: consolas, serif; font-size:11pt; font-style:italic\">\n",
    "    1.2- Define system functions:\n",
    "</p>"
   ]
  },
  {
   "cell_type": "code",
   "execution_count": 29,
   "id": "73f25006",
   "metadata": {},
   "outputs": [],
   "source": [
    "# define the 1st function of the system\n",
    "def fonc1(x, y):\n",
    "\n",
    "    return (pow(x, 2) + 1) * (pow(x + y, 2)) - 16 * pow(x, 2)\n",
    "\n",
    "#definition of the 2nd function of the system\n",
    "def fonc2(x, y):\n",
    "\n",
    "    return (pow(y, 2) + 1) * (pow(x + y, 2)) - 9 * pow(y, 2)"
   ]
  },
  {
   "cell_type": "code",
   "execution_count": 30,
   "id": "340755ad",
   "metadata": {},
   "outputs": [],
   "source": [
    "# define the derivative of F1 with respect to x\n",
    "def f1primX(x, y):\n",
    "\n",
    "    return (\n",
    "        4 * pow(x, 3) + 2 * x * pow(y, 2) + 6 * pow(x, 2) * y + 2 * x + 2 * y - 32 * x\n",
    "    )\n",
    "\n",
    "# define the derivative of F1 with respect to y\n",
    "def f1primY(x, y):\n",
    "\n",
    "    return (2 * pow(x, 2) * y) + (2 * pow(x, 3)) + 2 * y + 2 * x\n",
    "\n",
    "# define the derivative of F2 with respect to x\n",
    "def f2primX(x, y):\n",
    "\n",
    "    return (2 * x * pow(y, 2)) + (2 * pow(y, 3)) + 2 * x + 2 * y\n",
    "\n",
    "# define the derivative of F2 with respect to y\n",
    "def f2primY(x, y):\n",
    "\n",
    "    return (\n",
    "        (4 * pow(y, 3))\n",
    "        + (2 * y * pow(x, 2))\n",
    "        + (6 * pow(y, 2) * x)\n",
    "        + 2 * y\n",
    "        + 2 * x\n",
    "        - 18 * y\n",
    "    )"
   ]
  },
  {
   "cell_type": "markdown",
   "id": "e4913806",
   "metadata": {},
   "source": [
    "<p style=\"font-family: consolas, serif; font-size:14pt; font-style:italic\">\n",
    "    2- Define the functions to use:\n",
    "    <br>\n",
    "</p>"
   ]
  },
  {
   "cell_type": "markdown",
   "id": "3f225339",
   "metadata": {},
   "source": [
    "<p style=\"font-family: consolas, serif; font-size:11pt; font-style:italic\">\n",
    "    2.1- Libraries import:\n",
    "</p>"
   ]
  },
  {
   "cell_type": "code",
   "execution_count": 31,
   "id": "058c0412",
   "metadata": {},
   "outputs": [],
   "source": [
    "import numpy as np\n",
    "import math\n",
    "import time"
   ]
  },
  {
   "cell_type": "markdown",
   "id": "2adfeb16",
   "metadata": {},
   "source": [
    "<p style=\"font-family: consolas, serif; font-size:11pt; font-style:italic\">\n",
    "   2.2- Function to calculate the vector $-f\\left(x^{(n)}\\right)$ :\n",
    "</p>"
   ]
  },
  {
   "cell_type": "code",
   "execution_count": 32,
   "id": "05648779",
   "metadata": {},
   "outputs": [],
   "source": [
    "def func_vect(x, y):\n",
    "\n",
    "    return [\n",
    "        (-1) * fonc1(x, y),\n",
    "        (-1) * fonc2(x, y),\n",
    "    ]"
   ]
  },
  {
   "cell_type": "markdown",
   "id": "cfeb2be9",
   "metadata": {},
   "source": [
    "<p style=\"font-family: consolas, serif; font-size:11pt; font-style:italic\">\n",
    "    2.3- Function to calculate the Jacobian $J_{f}\\left(x^{(n)}\\right)$ :\n",
    "</p>"
   ]
  },
  {
   "cell_type": "code",
   "execution_count": 33,
   "id": "8876e18e",
   "metadata": {},
   "outputs": [],
   "source": [
    "def Fjacobienne(x, y):\n",
    "    return np.array([[f1primX(x, y), f1primY(x, y)], [f2primX(x, y), f2primY(x, y)]])"
   ]
  },
  {
   "cell_type": "markdown",
   "id": "3e8d4d1a",
   "metadata": {},
   "source": [
    "<p style=\"font-family: consolas, serif; font-size:11pt; font-style:italic\">\n",
    "    2.4- Function for solving a linear system with the classical method:\n",
    "</p>"
   ]
  },
  {
   "cell_type": "code",
   "execution_count": 34,
   "id": "a4fa548a",
   "metadata": {},
   "outputs": [],
   "source": [
    "def gauss(A, b):\n",
    "    return np.linalg.solve(A, b)"
   ]
  },
  {
   "cell_type": "markdown",
   "id": "ad479eff",
   "metadata": {},
   "source": [
    "<p style=\"font-family: consolas, serif; font-size:11pt; font-style:italic\">\n",
    "    2.5- Function to calculate an iteration of Newton:\n",
    "</p>"
   ]
  },
  {
   "cell_type": "code",
   "execution_count": 35,
   "id": "652c2500",
   "metadata": {},
   "outputs": [],
   "source": [
    "def newton_method(Xinit):\n",
    "    \n",
    "    \"\"\"\n",
    "    Xinit : this is the iteration vector X(k)\n",
    "    jacobian : it is the Jacobian matrix associated with the systems\n",
    "    F_Xn : this is the vector -F(Xn)\n",
    "    Xnitr : this is the vector X(k+1) of the next iteration (return value)\n",
    "    \"\"\"\n",
    "\n",
    "    Xi = Xinit[0]\n",
    "\n",
    "    Yi = Xinit[1]\n",
    "\n",
    "    jacobian = Fjacobienne(Xi, Yi)\n",
    "\n",
    "    F_Xn = func_vect(Xi, Yi)\n",
    "\n",
    "    Xnitr = gauss(jacobian, F_Xn) + Xinit\n",
    "\n",
    "    return Xnitr"
   ]
  },
  {
   "cell_type": "markdown",
   "id": "83ac68f9",
   "metadata": {},
   "source": [
    "<p style=\"font-family: consolas, serif; font-size:11pt; font-style:italic\">\n",
    "    2.6- Function to calculate Newton's iterations until convergence:\n",
    "</p>"
   ]
  },
  {
   "cell_type": "code",
   "execution_count": 36,
   "id": "5669c38c",
   "metadata": {},
   "outputs": [],
   "source": [
    "def methode_newton_iterie(x_int, epsilon, maxitr=100):\n",
    "    \n",
    "    \"\"\"\n",
    "    x_int: this is the starting vector\n",
    "    epsilon: it is tolerance\n",
    "    maxitr: max iteration that the function will arrive\n",
    "    cntr: it is a counter to tell the number of iterations\n",
    "    old_x: it is X at iteration k\n",
    "    new_x: it is X at iteration k+1\n",
    "    diff: this is the norm of ( X(k+1) - X(k)) to test convergence\n",
    "    CV: this is the solution X tq we have convergence (return value)\n",
    "    \"\"\"\n",
    "    cntr = 0\n",
    "\n",
    "    old_x = x_int\n",
    "    new_x = newton_method(x_int)\n",
    "    diff = np.linalg.norm(old_x - new_x)\n",
    "    print(f\"{old_x} FOR X0\")\n",
    "    while diff > epsilon or cntr > maxitr:\n",
    "        cntr += 1\n",
    "        new_x = newton_method(old_x)\n",
    "        diff = np.linalg.norm(new_x - old_x)\n",
    "        old_x = new_x\n",
    "        print(f\"iteration [{cntr}] : {old_x}\")\n",
    "        time.sleep(0.01)\n",
    "\n",
    "    CV = new_x\n",
    "    return CV"
   ]
  },
  {
   "cell_type": "markdown",
   "id": "8c4b08dd",
   "metadata": {},
   "source": [
    "<p style=\"font-family: consolas, serif; font-size:14pt; font-style:italic\">\n",
    "    3- Execution :\n",
    "    <br>\n",
    "</p>"
   ]
  },
  {
   "cell_type": "code",
   "execution_count": 38,
   "id": "07b96ced",
   "metadata": {},
   "outputs": [
    {
     "name": "stdout",
     "output_type": "stream",
     "text": [
      "[1, 1] FOR X0\n",
      "iteration [1] : [1.75 3.5 ]\n",
      "iteration [2] : [1.38068976 2.74339944]\n",
      "iteration [3] : [1.15426979 2.20643741]\n",
      "iteration [4] : [0.88280674 1.96925834]\n",
      "iteration [5] : [0.88400047 1.77223857]\n",
      "iteration [6] : [0.85775583 1.74766165]\n",
      "iteration [7] : [0.85721434 1.74607801]\n",
      "iteration [8] : [0.85721269 1.74607506]\n",
      "the solution converges to : [0.85721269 1.74607506] with an error of 0.0001\n"
     ]
    }
   ],
   "source": [
    "eps = 0.0001  # tolerance value\n",
    "X0 = [1, 1]   # starting vector\n",
    "print(f\"the solution converges to : {methode_newton_iterie(X0, eps)} with an error of {eps}\")"
   ]
  }
 ],
 "metadata": {
  "kernelspec": {
   "display_name": "Python 3 (ipykernel)",
   "language": "python",
   "name": "python3"
  },
  "language_info": {
   "codemirror_mode": {
    "name": "ipython",
    "version": 3
   },
   "file_extension": ".py",
   "mimetype": "text/x-python",
   "name": "python",
   "nbconvert_exporter": "python",
   "pygments_lexer": "ipython3",
   "version": "3.9.7"
  }
 },
 "nbformat": 4,
 "nbformat_minor": 5
}
