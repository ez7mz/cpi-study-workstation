{
 "cells": [
  {
   "cell_type": "markdown",
   "id": "fd0c6f0d",
   "metadata": {},
   "source": [
    "## Hypergeometric Law"
   ]
  },
  {
   "cell_type": "markdown",
   "id": "2953f683",
   "metadata": {},
   "source": [
    "\n",
    "    Author : MESRAR Hamza - @ez7m.z - 🦂\n",
    "    💬 : mesrarhamza48@gmail.com\n"
   ]
  },
  {
   "cell_type": "markdown",
   "id": "7a2a1987",
   "metadata": {},
   "source": [
    "<h3> Used Library </h3>"
   ]
  },
  {
   "cell_type": "code",
   "execution_count": 1,
   "id": "4bee3277",
   "metadata": {},
   "outputs": [],
   "source": [
    "import numpy as np\n",
    "import time\n",
    "import random\n",
    "from os import system\n",
    "import matplotlib.pyplot as plt\n",
    "from scipy.special import comb"
   ]
  },
  {
   "cell_type": "markdown",
   "id": "a9a182d2",
   "metadata": {},
   "source": [
    "<h3>Calculate the probability of X using Hypergeometric Law :</h3>"
   ]
  },
  {
   "cell_type": "code",
   "execution_count": 2,
   "id": "a716f105",
   "metadata": {},
   "outputs": [],
   "source": [
    "def hypergeom(N, A, n, x):\n",
    "\n",
    "    \"\"\"\n",
    "    N : Size of the population\n",
    "    A : Total number of valid elements in N\n",
    "    n : Number of draws made from N\n",
    "    x : Number of successful elements in your draw of n elements\n",
    "    return : the probability at X = x ---> P( X = x )\n",
    "    \"\"\"\n",
    "    ACx = comb(A, x)\n",
    "    NCx = comb(N - A, n - x)\n",
    "    NCn = comb(N, n)\n",
    "\n",
    "    return (ACx) * NCx / NCn\n"
   ]
  },
  {
   "cell_type": "markdown",
   "id": "0206c0ba",
   "metadata": {},
   "source": [
    "<h3>Calculate the probability of X <= x using Hypergeometric Law :</h3>"
   ]
  },
  {
   "cell_type": "code",
   "execution_count": 3,
   "id": "d6e83179",
   "metadata": {},
   "outputs": [],
   "source": [
    "def hypergeom_C(N, A, n, t, min_value=None):\n",
    "\n",
    "    \"\"\"\n",
    "    N : Size of the population\n",
    "    A : Total number of valid elements in N\n",
    "    n : Number of draws made from N\n",
    "    t : Number of successful elements in your draw of n elements until t\n",
    "    return : Cumulative probability calculate up to t\n",
    "    \"\"\"\n",
    "    if min_value:\n",
    "        return np.sum([hypergeom(N, A, n, x) for x in range(min_value, t + 1)])\n",
    "\n",
    "    return np.sum([hypergeom(N, A, n, x) for x in range(t + 1)])"
   ]
  },
  {
   "cell_type": "markdown",
   "id": "7e27b6b1",
   "metadata": {},
   "source": [
    "<h3>Plot the distribution of X as a function of P(X):</h3>"
   ]
  },
  {
   "cell_type": "code",
   "execution_count": 4,
   "id": "3f030d7f",
   "metadata": {},
   "outputs": [],
   "source": [
    "def hypergeom_plot(N, A, n):\n",
    "\n",
    "    \"\"\"\n",
    "    N : Size of the population\n",
    "    A : Total number of valid elements in N\n",
    "    n : Number of draws made from N\n",
    "    \"\"\"\n",
    "\n",
    "    x = np.arange(0, n + 1)\n",
    "    y = [hypergeom(N, A, n, x) for x in range(n + 1)]\n",
    "    plt.plot(x, y, \"o\")\n",
    "    plt.vlines(x, 0, y, lw=2)\n",
    "    plt.xlabel(\"X\")\n",
    "    plt.ylabel(\"Probability P(X)\")\n",
    "    plt.title(\"Distribution Hypergeometric\")\n",
    "    plt.show()"
   ]
  },
  {
   "cell_type": "markdown",
   "id": "87890639",
   "metadata": {},
   "source": [
    "<h3>Quit the program</h3>"
   ]
  },
  {
   "cell_type": "code",
   "execution_count": 5,
   "id": "a40839c4",
   "metadata": {},
   "outputs": [],
   "source": [
    "def quite():\n",
    "    print(\"\\n\" + \"\\t\" * 3 + \"Ok! Thanks you!...\")\n",
    "    time.sleep(1)\n",
    "    system(\"CLS\")"
   ]
  },
  {
   "cell_type": "markdown",
   "id": "b2bc7719",
   "metadata": {},
   "source": [
    "# Example\n",
    "We take at random, at the same time, three bulbs in a batch\n",
    "of 15 of which 5 are defective.\n",
    "\n",
    "Calculate the probability of following events:\n",
    "\n",
    "- A : At least one bulb is defective.\n",
    "- B : the 3 bulbs are defective.\n",
    "- C : Exactly one bulb is defective."
   ]
  },
  {
   "cell_type": "code",
   "execution_count": 6,
   "id": "2924bda0",
   "metadata": {},
   "outputs": [
    {
     "name": "stdout",
     "output_type": "stream",
     "text": [
      "\n",
      "\n",
      "\n",
      "================================================ Welcome ================================================\n",
      "\n",
      "\n",
      "\t\t\t# [y] : draw 3 bulbs ?\n",
      "\n",
      "\t\t\t# [N] : to see the example solution ?\n",
      "\n",
      "\t\t\t#  [ Y / N ] : y\n",
      "\n",
      "\t\t\t#  your result is : ['Amp', 'Amp', 'Amp']\n",
      "\n",
      "\t\t\t# Show the Probability ? [ Y / N ] :y\n",
      "\n",
      "==============================================================================================================\n",
      "\t\t\tprobability of the obtained result is : P(X = 0) = 0.26373626373626374\n",
      "\n",
      "==============================================================================================================\n",
      "\n",
      "\n",
      "\n",
      "\n",
      "type 1 to try again or 0 to Exit! : 1\n",
      "\n",
      "\n",
      "\n",
      "================================================ Welcome ================================================\n",
      "\n",
      "\n",
      "\t\t\t# [y] : draw 3 bulbs ?\n",
      "\n",
      "\t\t\t# [N] : to see the example solution ?\n",
      "\n",
      "\t\t\t#  [ Y / N ] : n\n",
      "\n",
      "==============================================================================================================\n",
      "\n",
      "\n",
      "\t\t\tShow example correction ? [Y / N] : y\n",
      "\n",
      "\t\t\tprobability of A ---> P(A) = 0.7582417582417582 \n",
      "\n",
      "\n",
      "\t\t\tprobability of B ---> P(B) = 0.02197802197802198 \n",
      "\n",
      "\n",
      "\t\t\tprobability of C ---> P(C) = 0.4945054945054945 \n",
      "\n",
      "\n",
      "==============================================================================================================\n",
      "\n",
      "\n",
      "==============================================================================================================\n",
      "\n",
      "\n",
      "\t\t\tEsperance = 1.0\n",
      "\n",
      "\n",
      "\t\t\tVariance = 0.5714285714285715\n",
      "\n",
      "\n",
      "==============================================================================================================\n",
      "\n",
      "\n",
      "\t\t\tShow distribution ? [Y / N ] : y\n"
     ]
    },
    {
     "data": {
      "image/png": "[encoded data removed]",
      "text/plain": [
       "<Figure size 432x288 with 1 Axes>"
      ]
     },
     "metadata": {
      "needs_background": "light"
     },
     "output_type": "display_data"
    },
    {
     "name": "stderr",
     "output_type": "stream",
     "text": [
      "C:\\Users\\HAMZAE~1\\AppData\\Local\\Temp/ipykernel_21680/2829319775.py:14: RuntimeWarning: invalid value encountered in double_scalars\n",
      "  return (ACx) * NCx / NCn\n"
     ]
    },
    {
     "data": {
      "image/png": "[encoded data removed]",
      "text/plain": [
       "<Figure size 432x288 with 1 Axes>"
      ]
     },
     "metadata": {
      "needs_background": "light"
     },
     "output_type": "display_data"
    },
    {
     "name": "stdout",
     "output_type": "stream",
     "text": [
      "programme run successfully with return value 0\n"
     ]
    }
   ],
   "source": [
    "def Ampoules():\n",
    "    result = []\n",
    "    \n",
    "    # Making the batch\n",
    "    lot = [\"Amp\" for x in range(10)] + [\"AmpDef\" for x in range(5)]\n",
    "    random.shuffle(lot)\n",
    "    \n",
    "    # Program menu\n",
    "    print(\"\\n\\n\\n\" + \"=\" * 48 + \" Welcome \" + \"=\" * 48 + \"\\n\\n\")\n",
    "    print(\"\\t\" * 3 + \"# \", end=\"\")\n",
    "    print(\"[y] : draw 3 bulbs ?\\n\")\n",
    "    print(\"\\t\" * 3 + \"# \", end=\"\")\n",
    "    print(\"[N] : to see the example solution ?\\n\")\n",
    "    print(\"\\t\" * 3 + \"# \", end=\"\")\n",
    "    choix = input(\" [ Y / N ] : \")\n",
    "\n",
    "    if choix.lower() == \"y\":\n",
    "        for i in range(3):\n",
    "            draw = random.choice(lot)\n",
    "            result.append(draw)\n",
    "            lot.remove(draw)\n",
    "        print(\"\\n\" + \"\\t\" * 3 + \"# \", \"your result is : {}\".format(result))\n",
    "        print(\"\\n\" + \"\\t\" * 3 + \"# \", end=\"\")\n",
    "        choix = input(\"Show the Probability ? [ Y / N ] :\")\n",
    "        if choix.lower() == \"y\":\n",
    "            print(\"\\n\" + \"=\" * 110)\n",
    "            x = result.count(\"AmpDef\")\n",
    "            print(\n",
    "                \"\\t\" * 3\n",
    "                + \"probability of the obtained result is : P(X = {}) = \".format(x),\n",
    "                end=\"\",\n",
    "            )\n",
    "            print(hypergeom(15, 5, 3, x))\n",
    "            print(\"\\n\" + \"=\" * 110 + \"\\n\")\n",
    "            print(\"\\n\\n\")\n",
    "            choix = input(\"type 1 to try again or 0 to Exit! : \")\n",
    "            if int(choix) == 1:\n",
    "                system(\"CLS\")\n",
    "                Ampoules()\n",
    "            else:\n",
    "                quite()\n",
    "    elif choix.lower() == \"n\":\n",
    "        print(\"\\n\" + \"=\" * 110 + \"\\n\")\n",
    "        choix = input(\"\\n\" + \"\\t\" * 3 + \"Show example correction ? [Y / N] : \")\n",
    "        if choix.lower() == \"y\":\n",
    "            print(\n",
    "                \"\\n\"\n",
    "                + \"\\t\" * 3\n",
    "                + \"probability of A ---> P(A) = {} \\n\".format(hypergeom_C(15, 5, 3, 1))\n",
    "            )\n",
    "            print(\n",
    "                \"\\n\"\n",
    "                + \"\\t\" * 3\n",
    "                + \"probability of B ---> P(B) = {} \\n\".format(hypergeom(15, 5, 3, 3))\n",
    "            )\n",
    "            print(\n",
    "                \"\\n\"\n",
    "                + \"\\t\" * 3\n",
    "                + \"probability of C ---> P(C) = {} \\n\".format(hypergeom(15, 5, 3, 1))\n",
    "            )\n",
    "            print(\"\\n\" + \"=\" * 110 + \"\\n\")\n",
    "            print(\"\\n\" + \"=\" * 110 + \"\\n\")\n",
    "            print(\"\\n\" + \"\\t\" * 3 + \"Esperance = {}\".format(3 * (5 / 15)) + \"\\n\")\n",
    "            print(\n",
    "                \"\\n\"\n",
    "                + \"\\t\" * 3\n",
    "                + \"Variance = {}\".format((12 / 14) * (1 - (5 / 15)))\n",
    "                + \"\\n\"\n",
    "            )\n",
    "            print(\"\\n\" + \"=\" * 110 + \"\\n\")\n",
    "            choix = input(\"\\n\" + \"\\t\" * 3 + \"Show distribution ? [Y / N ] : \")\n",
    "            if choix.lower() == \"y\":\n",
    "                hypergeom_plot(15, 5, 3)\n",
    "                hypergeom_plot(1000, 5000, 200)\n",
    "            else:\n",
    "                quite()\n",
    "        else:\n",
    "            quite()\n",
    "    else:\n",
    "        print(\"\\n\" + \"\\t\" * 3 + \"Error Try again!...\")\n",
    "        time.sleep(1)\n",
    "        system(\"CLS\")\n",
    "        Ampoules()\n",
    "\n",
    "Ampoules()\n",
    "        \n",
    "print(\"programme run successfully with return value 0\")"
   ]
  }
 ],
 "metadata": {
  "kernelspec": {
   "display_name": "Python 3 (ipykernel)",
   "language": "python",
   "name": "python3"
  },
  "language_info": {
   "codemirror_mode": {
    "name": "ipython",
    "version": 3
   },
   "file_extension": ".py",
   "mimetype": "text/x-python",
   "name": "python",
   "nbconvert_exporter": "python",
   "pygments_lexer": "ipython3",
   "version": "3.9.7"
  },
  "vscode": {
   "interpreter": {
    "hash": "75175798ee0c20ccb80e157b20d053ba9819d1313f68ec841e612911ffd3210e"
   }
  }
 },
 "nbformat": 4,
 "nbformat_minor": 5
}
